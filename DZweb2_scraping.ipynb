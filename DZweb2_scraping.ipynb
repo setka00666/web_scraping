{
  "nbformat": 4,
  "nbformat_minor": 0,
  "metadata": {
    "colab": {
      "provenance": []
    },
    "kernelspec": {
      "name": "python3",
      "display_name": "Python 3"
    },
    "language_info": {
      "name": "python"
    }
  },
  "cells": [
    {
      "cell_type": "code",
      "execution_count": 188,
      "metadata": {
        "id": "AdGrSolUIjMl"
      },
      "outputs": [],
      "source": [
        "import requests\n",
        "import re"
      ]
    },
    {
      "cell_type": "code",
      "source": [
        "#res = requests.get('https://habr.com/ru/search/')\n"
      ],
      "metadata": {
        "colab": {
          "base_uri": "https://localhost:8080/",
          "height": 105
        },
        "id": "LY-7MNsYKVJZ",
        "outputId": "30d4a21d-274c-448c-f502-2ade2c73d0a0"
      },
      "execution_count": null,
      "outputs": [
        {
          "output_type": "execute_result",
          "data": {
            "text/plain": [
              "'<!DOCTYPE html>\\n<html lang=\"ru\">\\n\\n  <head>\\n    <title>Результаты поиска по запросу «» &#x2F; Хабр</title>\\n<link rel=\"image_src\" href=\"/img/habr_ru.png\" data-hid=\"2a79c45\">\\n<link href=\"https://habr.com/ru/search/\" rel=\"canonical\" data-hid=\"e3fa780\">\\n<meta itemprop=\"image\" content=\"/img/habr_ru.png\">\\n<meta property=\"og:image\" content=\"/img/habr_ru.png\">\\n<meta property=\"og:image:width\" content=\"1200\">\\n<meta property=\"og:image:height\" content=\"630\">\\n<meta property=\"aiturec:image\" content=\"/img/habr_ru.png\">\\n<meta name=\"twitter:image\" content=\"/img/habr_ru.png\">\\n<meta property=\"vk:image\" content=\"/img/habr_ru.png?format=vk\">\\n<meta property=\"fb:app_id\" content=\"444736788986613\">\\n<meta property=\"fb:pages\" content=\"472597926099084\">\\n<meta name=\"twitter:card\" content=\"summary_large_image\">\\n<meta name=\"twitter:site\" content=\"@habr_com\">\\n<meta property=\"og:locale\" content=\"ru_RU\">\\n<meta property=\"og:type\" content=\"website\">\\n<meta property=\"og:site_name\" content=\"Хабр\">\\n<meta property=\"og:title\" content=\"Хабр\">\\n<meta property=\"og:url\" content=\"https://habr.com/ru/search/\">\\n<link href=\"https://habr.com/ru/rss/search/?q=undefined&order_by=undefined&target_type=undefined&hl=ru&fl=ru&fl=ru\" type=\"application/rss+xml\" title rel=\"alternate\" name=\"rss\">\\n    <meta charset=\"UTF-8\">\\n    <meta name=\"viewport\"\\n      content=\"width=device-width,initial-scale=1.0,viewport-fit=cover,maximum-scale=1,user-scalable=0\">\\n    <meta name=\"referrer\" content=\"unsafe-url\">\\n    <style>\\n      /* cyrillic-ext */\\n      @font-face {\\n        font-family: \\'Fira Sans\\';\\n        font-style: normal;\\n        font-weight: 400;\\n        font-display: swap;\\n        src: url(https://fonts.gstatic.com/s/firasans/v17/va9E4kDNxMZdWfMOD5VvmojLazX3dGTP.woff2) format(\\'woff2\\');\\n        unicode-range: U+0460-052F, U+1C80-1C88, U+20B4, U+2DE0-2DFF, U+A640-A69F, U+FE2E-FE2F;\\n      }\\n\\n      /* cyrillic */\\n      @font-face {\\n        font-family: \\'Fira Sans\\';\\n        font-style: normal;\\n        font-weight: 400;\\n        font-display: swap;\\n        src: url(https://fonts.gstatic.com/s/firasans/v17/va9E4kDNxMZdWfMOD5Vvk4jLazX3dGTP.woff2) format(\\'woff2\\');\\n        unicode-range: U+0301, U+0400-045F, U+0490-0491, U+04B0-04B1, U+2116;\\n      }\\n\\n      /* latin-ext */\\n      @font-face {\\n        font-family: \\'Fira Sans\\';\\n        font-style: normal;\\n        font-weight: 400;\\n        font-display: swap;\\n        src: url(https://fonts.gstatic.com/s/firasans/v17/va9E4kDNxMZdWfMOD5VvmYjLazX3dGTP.woff2) format(\\'woff2\\');\\n        unicode-range: U+0100-02AF, U+0304, U+0308, U+0329, U+1E00-1E9F, U+1EF2-1EFF, U+2020, U+20A0-20AB, U+20AD-20C0, U+2113, U+2C60-2C7F, U+A720-A7FF;\\n      }\\n\\n      /* latin */\\n      @font-face {\\n        font-family: \\'Fira Sans\\';\\n        font-style: normal;\\n        font-weight: 400;\\n        font-display: swap;\\n        src: url(https://fonts.gstatic.com/s/firasans/v17/va9E4kDNxMZdWfMOD5Vvl4jLazX3dA.woff2) format(\\'woff2\\');\\n        unicode-range: U+0000-00FF, U+0131, U+0152-0153, U+02BB-02BC, U+02C6, U+02DA, U+02DC, U+0304, U+0308, U+0329, U+2000-206F, U+2074, U+20AC, U+2122, U+2191, U+2193, U+2212, U+2215, U+FEFF, U+FFFD;\\n      }\\n\\n      /* cyrillic-ext */\\n      @font-face {\\n        font-family: \\'Fira Sans\\';\\n        font-style: normal;\\n        font-weight: 500;\\n        font-display: swap;\\n        src: url(https://fonts.gstatic.com/s/firasans/v17/va9B4kDNxMZdWfMOD5VnZKveSxf6Xl7Gl3LX.woff2) format(\\'woff2\\');\\n        unicode-range: U+0460-052F, U+1C80-1C88, U+20B4, U+2DE0-2DFF, U+A640-A69F, U+FE2E-FE2F;\\n      }\\n\\n      /* cyrillic */\\n      @font-face {\\n        font-family: \\'Fira Sans\\';\\n        font-style: normal;\\n        font-weight: 500;\\n        font-display: swap;\\n        src: url(https://fonts.gstatic.com/s/firasans/v17/va9B4kDNxMZdWfMOD5VnZKveQhf6Xl7Gl3LX.woff2) format(\\'woff2\\');\\n        unicode-range: U+0301, U+0400-045F, U+0490-0491, U+04B0-04B1, U+2116;\\n      }\\n\\n      /* latin-ext */\\n      @font-face {\\n        font-family: \\'Fira Sans\\';\\n        font-style: normal;\\n        font-weight: 500;\\n        font-display: swap;\\n        src: url(https://fonts.gstatic.com/s/firasans/v17/va9B4kDNxMZdWfMOD5VnZKveSBf6Xl7Gl3LX.woff2) format(\\'woff2\\');\\n        unicode-range: U+0100-02AF, U+0304, U+0308, U+0329, U+1E00-1E9F, U+1EF2-1EFF, U+2020, U+20A0-20AB, U+20AD-20C0, U+2113, U+2C60-2C7F, U+A720-A7FF;\\n      }\\n\\n      /* latin */\\n      @font-face {\\n        font-family: \\'Fira Sans\\';\\n        font-style: normal;\\n        font-weight: 500;\\n        font-display: swap;\\n        src: url(https://fonts.gstatic.com/s/firasans/v17/va9B4kDNxMZdWfMOD5VnZKveRhf6Xl7Glw.woff2) format(\\'woff2\\');\\n        unicode-range: U+0000-00FF, U+0131, U+0152-0153, U+02BB-02BC, U+02C6, U+02DA, U+02DC, U+0304, U+0308, U+0329, U+2000-206F, U+2074, U+20AC, U+2122, U+2191, U+2193, U+2212, U+2215, U+FEFF, U+FFFD;\\n      }\\n\\n      /* cyrillic-ext */\\n      @font-face {\\n        font-family: \\'Fira Sans\\';\\n        font-style: normal;\\n        font-weight: 700;\\n        font-display: swap;\\n        src: url(https://fonts.gstatic.com/s/firasans/v17/va9B4kDNxMZdWfMOD5VnLK3eSxf6Xl7Gl3LX.woff2) format(\\'woff2\\');\\n        unicode-range: U+0460-052F, U+1C80-1C88, U+20B4, U+2DE0-2DFF, U+A640-A69F, U+FE2E-FE2F;\\n      }\\n\\n      /* cyrillic */\\n      @font-face {\\n        font-family: \\'Fira Sans\\';\\n        font-style: normal;\\n        font-weight: 700;\\n        font-display: swap;\\n        src: url(https://fonts.gstatic.com/s/firasans/v17/va9B4kDNxMZdWfMOD5VnLK3eQhf6Xl7Gl3LX.woff2) format(\\'woff2\\');\\n        unicode-range: U+0301, U+0400-045F, U+0490-0491, U+04B0-04B1, U+2116;\\n      }\\n\\n      /* latin-ext */\\n      @font-face {\\n        font-family: \\'Fira Sans\\';\\n        font-style: normal;\\n        font-weight: 700;\\n        font-display: swap;\\n        src: url(https://fonts.gstatic.com/s/firasans/v17/va9B4kDNxMZdWfMOD5VnLK3eSBf6Xl7Gl3LX.woff2) format(\\'woff2\\');\\n        unicode-range: U+0100-02AF, U+0304, U+0308, U+0329, U+1E00-1E9F, U+1EF2-1EFF, U+2020, U+20A0-20AB, U+20AD-20C0, U+2113, U+2C60-2C7F, U+A720-A7FF;\\n      }\\n\\n      /* latin */\\n      @font-face {\\n        font-family: \\'Fira Sans\\';\\n        font-style: normal;\\n        font-weight: 700;\\n        font-display: swap;\\n        src: url(https://fonts.gstatic.com/s/firasans/v17/va9B4kDNxMZdWfMOD5VnLK3eRhf6Xl7Glw.woff2) format(\\'woff2\\');\\n        unicode-range: U+0000-00FF, U+0131, U+0152-0153, U+02BB-02BC, U+02C6, U+02DA, U+02DC, U+0304, U+0308, U+0329, U+2000-206F, U+2074, U+20AC, U+2122, U+2191, U+2193, U+2212, U+2215, U+FEFF, U+FFFD;\\n      }\\n    </style>\\n    <link rel=\"preload\" href=\"https://assets.habr.com/habr-web/css/theme/light-v1.css\" as=\"style\" media=\"(prefers-color-scheme: light)\" /><link rel=\"preload\" href=\"https://assets.habr.com/habr-web/css/theme/dark-v1.css\" as=\"style\" media=\"(prefers-color-scheme: dark)\" /><link id=\"light-colors\" rel=\"stylesheet\" href=\"https://assets.habr.com/habr-web/css/theme/light-v1.css\" media=\"(prefers-color-scheme: light)\" /><link id=\"dark-colors\" rel=\"stylesheet\" href=\"https://assets.habr.com/habr-web/css/theme/dark-v1.css\" media=\"(prefers-color-scheme: dark)\" />\\n    <script>window.i18nFetch = new Promise((res, rej) => {\\n          const xhr = new XMLHttpRequest();\\n          xhr.open(\\'GET\\', \\'/js/i18n/ru-compiled.428f6c8ce05fffabcf38f731030ff147.json\\');\\n          xhr.responseType = \\'json\\';\\n          xhr.onload = function(e) {\\n            if (this.status === 200) {\\n              res({ru: xhr.response});\\n            } else {\\n              rej(e);\\n            }\\n          };\\n          xhr.send();\\n        });</script>\\n    <style>\\n      .grecaptcha-badge {\\n        visibility: hidden;\\n      }\\n    </style>\\n    <meta name=\"habr-version\" content=\"2.236.0\">\\n    \\n    <meta name=\"apple-mobile-web-app-status-bar-style\" content=\"#303b44\">\\n    <meta name=\"msapplication-TileColor\" content=\"#629FBC\">\\n    <meta name=\"apple-mobile-web-app-capable\" content=\"yes\">\\n    <meta name=\"mobile-web-app-capable\" content=\"yes\">\\n    <link rel=\"shortcut icon\" type=\"image/png\" sizes=\"16x16\" href=\"https://assets.habr.com/habr-web/img/favicons/favicon-16.png\">\\n    <link rel=\"shortcut icon\" type=\"image/png\" sizes=\"32x32\" href=\"https://assets.habr.com/habr-web/img/favicons/favicon-32.png\">\\n    <link rel=\"apple-touch-icon\" type=\"image/png\" sizes=\"76x76\" href=\"https://assets.habr.com/habr-web/img/favicons/apple-touch-icon-76.png\">\\n    <link rel=\"apple-touch-icon\" type=\"image/png\" sizes=\"120x120\" href=\"https://assets.habr.com/habr-web/img/favicons/apple-touch-icon-120.png\">\\n    <link rel=\"apple-touch-icon\" type=\"image/png\" sizes=\"152x152\" href=\"https://assets.habr.com/habr-web/img/favicons/apple-touch-icon-152.png\">\\n    <link rel=\"apple-touch-icon\" type=\"image/png\" sizes=\"180x180\" href=\"https://assets.habr.com/habr-web/img/favicons/apple-touch-icon-180.png\">\\n    <link rel=\"apple-touch-icon\" type=\"image/png\" sizes=\"256x256\" href=\"https://assets.habr.com/habr-web/img/favicons/apple-touch-icon-256.png\">\\n    <link rel=\"apple-touch-startup-image\"\\n      media=\"screen and (device-width: 320px) and (device-height: 568px) and (-webkit-device-pixel-ratio: 2) and (orientation: landscape)\"\\n      href=\"https://assets.habr.com/habr-web/img/splashes/splash_1136x640.png\">\\n    <link rel=\"apple-touch-startup-image\"\\n      media=\"screen and (device-width: 375px) and (device-height: 812px) and (-webkit-device-pixel-ratio: 3) and (orientation: landscape)\"\\n      href=\"https://assets.habr.com/habr-web/img/splashes/splash_2436x1125.png\">\\n    <link rel=\"apple-touch-startup-image\"\\n      media=\"screen and (device-width: 414px) and (device-height: 896px) and (-webkit-device-pixel-ratio: 2) and (orientation: landscape)\"\\n      href=\"https://assets.habr.com/habr-web/img/splashes/splash_1792x828.png\">\\n    <link rel=\"apple-touch-startup-image\"\\n      media=\"screen and (device-width: 414px) and (device-height: 896px) and (-webkit-device-pixel-ratio: 2) and (orientation: portrait)\"\\n      href=\"https://assets.habr.com/habr-web/img/splashes/splash_828x1792.png\">\\n    <link rel=\"apple-touch-startup-image\"\\n      media=\"screen and (device-width: 375px) and (device-height: 667px) and (-webkit-device-pixel-ratio: 2) and (orientation: landscape)\"\\n      href=\"https://assets.habr.com/habr-web/img/splashes/splash_1334x750.png\">\\n    <link rel=\"apple-touch-startup-image\"\\n      media=\"screen and (device-width: 414px) and (device-height: 896px) and (-webkit-device-pixel-ratio: 3) and (orientation: portrait)\"\\n      href=\"https://assets.habr.com/habr-web/img/splashes/splash_1242x2668.png\">\\n    <link rel=\"apple-touch-startup-image\"\\n      media=\"screen and (device-width: 414px) and (device-height: 736px) and (-webkit-device-pixel-ratio: 3) and (orientation: landscape)\"\\n      href=\"https://assets.habr.com/habr-web/img/splashes/splash_2208x1242.png\">\\n    <link rel=\"apple-touch-startup-image\"\\n      media=\"screen and (device-width: 375px) and (device-height: 812px) and (-webkit-device-pixel-ratio: 3) and (orientation: portrait)\"\\n      href=\"https://assets.habr.com/habr-web/img/splashes/splash_1125x2436.png\">\\n    <link rel=\"apple-touch-startup-image\"\\n      media=\"screen and (device-width: 414px) and (device-height: 736px) and (-webkit-device-pixel-ratio: 3) and (orientation: portrait)\"\\n      href=\"https://assets.habr.com/habr-web/img/splashes/splash_1242x2208.png\">\\n    <link rel=\"apple-touch-startup-image\"\\n      media=\"screen and (device-width: 1024px) and (device-height: 1366px) and (-webkit-device-pixel-ratio: 2) and (orientation: landscape)\"\\n      href=\"https://assets.habr.com/habr-web/img/splashes/splash_2732x2048.png\">\\n    <link rel=\"apple-touch-startup-image\"\\n      media=\"screen and (device-width: 414px) and (device-height: 896px) and (-webkit-device-pixel-ratio: 3) and (orientation: landscape)\"\\n      href=\"https://assets.habr.com/habr-web/img/splashes/splash_2688x1242.png\">\\n    <link rel=\"apple-touch-startup-image\"\\n      media=\"screen and (device-width: 834px) and (device-height: 1112px) and (-webkit-device-pixel-ratio: 2) and (orientation: landscape)\"\\n      href=\"https://assets.habr.com/habr-web/img/splashes/splash_2224x1668.png\">\\n    <link rel=\"apple-touch-startup-image\"\\n      media=\"screen and (device-width: 375px) and (device-height: 667px) and (-webkit-device-pixel-ratio: 2) and (orientation: portrait)\"\\n      href=\"https://assets.habr.com/habr-web/img/splashes/splash_750x1334.png\">\\n    <link rel=\"apple-touch-startup-image\"\\n      media=\"screen and (device-width: 1024px) and (device-height: 1366px) and (-webkit-device-pixel-ratio: 2) and (orientation: portrait)\"\\n      href=\"https://assets.habr.com/habr-web/img/splashes/splash_2048x2732.png\">\\n    <link rel=\"apple-touch-startup-image\"\\n      media=\"screen and (device-width: 834px) and (device-height: 1194px) and (-webkit-device-pixel-ratio: 2) and (orientation: landscape)\"\\n      href=\"https://assets.habr.com/habr-web/img/splashes/splash_2388x1668.png\">\\n    <link rel=\"apple-touch-startup-image\"\\n      media=\"screen and (device-width: 834px) and (device-height: 1112px) and (-webkit-device-pixel-ratio: 2) and (orientation: portrait)\"\\n      href=\"https://assets.habr.com/habr-web/img/splashes/splash_1668x2224.png\">\\n    <link rel=\"apple-touch-startup-image\"\\n      media=\"screen and (device-width: 320px) and (device-height: 568px) and (-webkit-device-pixel-ratio: 2) and (orientation: portrait)\"\\n      href=\"https://assets.habr.com/habr-web/img/splashes/splash_640x1136.png\">\\n    <link rel=\"apple-touch-startup-image\"\\n      media=\"screen and (device-width: 834px) and (device-height: 1194px) and (-webkit-device-pixel-ratio: 2) and (orientation: portrait)\"\\n      href=\"https://assets.habr.com/habr-web/img/splashes/splash_1668x2388.png\">\\n    <link rel=\"apple-touch-startup-image\"\\n      media=\"screen and (device-width: 768px) and (device-height: 1024px) and (-webkit-device-pixel-ratio: 2) and (orientation: landscape)\"\\n      href=\"https://assets.habr.com/habr-web/img/splashes/splash_2048x1536.png\">\\n    <link rel=\"apple-touch-startup-image\"\\n      media=\"screen and (device-width: 768px) and (device-height: 1024px) and (-webkit-device-pixel-ratio: 2) and (orientation: portrait)\"\\n      href=\"https://assets.habr.com/habr-web/img/splashes/splash_1536x2048.png\">\\n    <link rel=\"mask-icon\" color=\"#77a2b6\" href=\"https://assets.habr.com/habr-web/img/favicons/apple-touch-icon-120.svg\">\\n    <link crossorigin=\"use-credentials\" href=\"/manifest.webmanifest\" rel=\"manifest\">\\n    <script async src=\"https://unpkg.com/pwacompat\" crossorigin=\"anonymous\"></script>\\n    <script>window.yaContextCb = window.yaContextCb || []</script>\\n    <script src=\"https://yandex.ru/ads/system/context.js\" async></script>\\n  <link rel=\"preload\" href=\"https://assets.habr.com/habr-web/css/chunk-vendors.04465f7c.css\" as=\"style\"><link rel=\"preload\" href=\"https://assets.habr.com/habr-web/js/chunk-vendors.e4e29f68.js\" as=\"script\"><link rel=\"preload\" href=\"https://assets.habr.com/habr-web/css/app.64e01ffa.css\" as=\"style\"><link rel=\"preload\" href=\"https://assets.habr.com/habr-web/js/app.02580165.js\" as=\"script\"><link rel=\"preload\" href=\"https://assets.habr.com/habr-web/css/search.8332830a.css\" as=\"style\"><link rel=\"preload\" href=\"https://assets.habr.com/habr-web/js/search.16c77a39.js\" as=\"script\"><link rel=\"stylesheet\" href=\"https://assets.habr.com/habr-web/css/chunk-vendors.04465f7c.css\"><link rel=\"stylesheet\" href=\"https://assets.habr.com/habr-web/css/app.64e01ffa.css\"><link rel=\"stylesheet\" href=\"https://assets.habr.com/habr-web/css/search.8332830a.css\"></head>\\n  <body>\\n    \\n    <div id=\"mount\"><div id=\"app\" data-async-called=\"true\"><div class=\"tm-layout__wrapper\"><!--[--><!----><div></div><div class=\"tm-feature tm-feature\"><!----></div><header class=\"tm-header\" data-test-id=\"header\"><div class=\"tm-page-width\"><!--[--><div class=\"tm-header__container\"><div class=\"tm-header__burger-nav\" data-test-id=\"burger-nav\"><button class=\"tm-header__button tm-header__button_burger\" type=\"button\"><svg class=\"tm-svg-img tm-header__icon tm-header__icon-burger\" height=\"16\" width=\"16\"><title>Меню</title><use xlink:href=\"/img/megazord-v28.371b7fa3..svg#header-burger\"></use></svg></button></div><span class=\"tm-header__logo-wrap\"><a class=\"tm-header__logo tm-header__logo_hl-ru tm-header__logo\" href=\"/ru/\"><svg class=\"tm-svg-img tm-header__icon\" height=\"16\" width=\"16\"><title>Хабр</title><use xlink:href=\"/img/habr-logo-ru.svg#logo\"></use></svg></a><span style=\"display:none;\" class=\"tm-header__beta-sign\">β</span></span><!----><div class=\"tm-header-user-menu tm-header_user-menu\"><a aria-current=\"page\" href=\"/ru/search/\" class=\"router-link-active router-link-exact-active tm-header-user-menu__item tm-header-user-menu__search\" data-test-id=\"search-button\"><svg class=\"tm-svg-img tm-header-user-menu__icon tm-header-user-menu__icon_search\" height=\"24\" width=\"24\"><title>Поиск</title><use xlink:href=\"/img/megazord-v28.371b7fa3..svg#search\"></use></svg></a><!----><!----><div class=\"tm-header-user-menu__item tm-header-user-menu__write\"><div><svg class=\"tm-svg-img tm-header-user-menu__icon tm-header-user-menu__icon_write\" height=\"24\" width=\"24\"><title>Написать публикацию</title><use xlink:href=\"/img/megazord-v28.371b7fa3..svg#write\"></use></svg></div><!----></div><!--[--><div class=\"tm-header-user-menu__item\"><button class=\"tm-header-user-menu__toggle\" data-test-id=\"user-menu-settings\"><svg class=\"tm-svg-img tm-header-user-menu__icon\" height=\"24\" width=\"24\"><title>Настройки</title><use xlink:href=\"/img/megazord-v28.371b7fa3..svg#page-settings\"></use></svg></button></div><a href=\"https://habr.com/kek/v1/auth/habrahabr/?back=/ru/search/&amp;hl=ru\" rel=\"nofollow\" class=\"tm-header-user-menu__item\"><!--[--><button class=\"btn btn_solid btn_small tm-header-user-menu__login\" type=\"button\"><!--[-->Войти<!--]--></button><!--]--></a><!--]--><!----><!--teleport start--><!--teleport end--><!----></div></div><!--]--></div></header><div class=\"tm-layout\"><div class=\"tm-page-progress-bar\"></div><!----><!----><div class=\"tm-page-width\"><!--[--><!--]--></div><main class=\"tm-layout__container\"><div class=\"tm-page\" style=\"--5ab2e5a8:16px;--44c4f6f6:100%;--45ba7a3b:0;\"><div class=\"tm-page-width\"><!--[--><!----><div class=\"tm-page__wrapper\"><div class=\"tm-page__main_has-sidebar tm-page__main\"><div class=\"pull-down\"><!----><div class=\"pull-down__header\" style=\"height:0px;\"><div class=\"pull-down__content\" style=\"bottom:10px;\"><svg class=\"tm-svg-img pull-down__icon pull-down__arrow\" height=\"24\" width=\"24\"><title>Обновить</title><use xlink:href=\"/img/megazord-v28.371b7fa3..svg#pull-arrow\"></use></svg></div></div><!--[--><!--[--><div class=\"tm-page__top\"><form action=\"/ru/search/\" class=\"tm-search\" method=\"GET\"><div class=\"tm-input-text-decorated tm-input-text-decorated_has-label-after tm-search__input\" autofocus name=\"q\" placeholder=\"Поиск\"><!----><input autofocus class=\"tm-search__input tm-input-text-decorated__input\" name=\"q\" placeholder=\"Поиск\" value><div class=\"tm-input-text-decorated__label tm-input-text-decorated__label_after\"><!--[--><span class=\"tm-svg-icon__wrapper tm-search__icon\"><svg class=\"tm-svg-img tm-svg-icon\" height=\"16\" width=\"16\"><title>Поиск</title><use xlink:href=\"/img/megazord-v28.371b7fa3..svg#input-search\"></use></svg></span><!--]--></div></div><!----><input name=\"target_type\" type=\"hidden\" value=\"posts\"><input hidden type=\"submit\"></form><!----></div><div><div class=\"placeholder-wrapper\"><!----><!----><!----><!----><!----><!----><!----><!----><!----><!----><!----><!----><!----><!----><!----><!----><!----><!----><!----><!----><!----><!----><div class=\"tm-placeholder-promo\"><div class=\"tm-placeholder-promo__header\"><div class=\"tm-placeholder__line tm-placeholder__line_promo-title\"></div></div><div class=\"tm-placeholder-promo__body\"><div class=\"tm-placeholder-promo__posts\"><div class=\"tm-placeholder-promo__post\"><div class=\"tm-placeholder-promo__image\"></div><div class=\"tm-placeholder__line tm-placeholder__line_post-title\"></div></div><div class=\"tm-placeholder-promo__post\"><div class=\"tm-placeholder-promo__image\"></div><div class=\"tm-placeholder__line tm-placeholder__line_post-title\"></div></div><div class=\"tm-placeholder-promo__post\"><div class=\"tm-placeholder-promo__image\"></div><div class=\"tm-placeholder__line tm-placeholder__line_post-title\"></div></div></div><div class=\"tm-placeholder-promo__dots\"><div class=\"tm-placeholder-promo__dot\"></div><div class=\"tm-placeholder-promo__dot\"></div><div class=\"tm-placeholder-promo__dot\"></div></div></div></div><!----><!----><!----><!----><!----><!----><!----><!----><!----><!----><!----><!----><!----></div></div><!--]--><!--]--></div></div><div class=\"tm-page__sidebar\"><!--[--><!--]--></div></div><!----><!--]--></div></div></main><!----></div><!----><div class=\"tm-footer\"><div class=\"tm-page-width\"><!--[--><div class=\"tm-footer__container\"><div class=\"tm-footer__title\"><a class=\"tm-svg-icon__wrapper tm-footer__title-link\" href=\"/ru/\"><svg class=\"tm-svg-img tm-svg-icon\" height=\"16\" width=\"16\"><title>Хабр</title><use xlink:href=\"/img/habr-logo-ru.svg#logo\"></use></svg></a></div><div class=\"tm-footer__social\"><!--[--><a class=\"tm-svg-icon__wrapper tm-social-icons__icon\" href=\"https://www.facebook.com/habrahabr.ru\" rel=\"nofollow noopener noreferrer\" target=\"_blank\"><svg class=\"tm-svg-img tm-svg-icon\" height=\"36\" width=\"36\"><title>Facebook</title><use xlink:href=\"/img/new-social-icons-sprite.svg#social-logo-facebook\"></use></svg></a><a class=\"tm-svg-icon__wrapper tm-social-icons__icon\" href=\"https://twitter.com/habr_com\" rel=\"nofollow noopener noreferrer\" target=\"_blank\"><svg class=\"tm-svg-img tm-svg-icon\" height=\"36\" width=\"36\"><title>Twitter</title><use xlink:href=\"/img/new-social-icons-sprite.svg#social-logo-twitter\"></use></svg></a><a class=\"tm-svg-icon__wrapper tm-social-icons__icon\" href=\"https://vk.com/habr\" rel=\"nofollow noopener noreferrer\" target=\"_blank\"><svg class=\"tm-svg-img tm-svg-icon\" height=\"36\" width=\"36\"><title>VK</title><use xlink:href=\"/img/new-social-icons-sprite.svg#social-logo-vk\"></use></svg></a><a class=\"tm-svg-icon__wrapper tm-social-icons__icon\" href=\"https://telegram.me/habr_com\" rel=\"nofollow noopener noreferrer\" target=\"_blank\"><svg class=\"tm-svg-img tm-svg-icon\" height=\"36\" width=\"36\"><title>Telegram</title><use xlink:href=\"/img/new-social-icons-sprite.svg#social-logo-telegram\"></use></svg></a><a class=\"tm-svg-icon__wrapper tm-social-icons__icon\" href=\"https://www.youtube.com/channel/UCd_sTwKqVrweTt4oAKY5y4w\" rel=\"nofollow noopener noreferrer\" target=\"_blank\"><svg class=\"tm-svg-img tm-svg-icon\" height=\"36\" width=\"36\"><title>Youtube</title><use xlink:href=\"/img/new-social-icons-sprite.svg#social-logo-youtube\"></use></svg></a><a class=\"tm-svg-icon__wrapper tm-social-icons__icon\" href=\"https://dzen.ru/habr\" rel=\"nofollow noopener noreferrer\" target=\"_blank\"><svg class=\"tm-svg-img tm-svg-icon\" height=\"36\" width=\"36\"><title>Яндекс Дзен</title><use xlink:href=\"/img/new-social-icons-sprite.svg#social-logo-dzen\"></use></svg></a><!--]--></div><!--teleport start--><!--teleport end--><button class=\"tm-footer__link\"><svg class=\"tm-svg-img tm-footer__icon\" height=\"16\" width=\"16\"><title>Язык</title><use xlink:href=\"/img/megazord-v28.371b7fa3..svg#lang\"></use></svg> Настройка языка</button><a href=\"/ru/feedback/\" class=\"tm-footer__link\">Техническая поддержка</a><div class=\"tm-footer-copyright\"><span class=\"tm-copyright\"><span class=\"tm-copyright__years\">© 2006–2025, </span><span class=\"tm-copyright__name\"><a class=\"tm-copyright__link\" href=\"https://company.habr.com/\" rel=\"noopener\" target=\"_blank\">Habr</a></span></span></div></div><!--]--></div></div><!----><!--]--></div><!----></div><script>window.__INITIAL_STATE__={\"adblock\":{\"hasAcceptableAdsFilter\":false,\"hasAdblock\":false},\"articlesList\":{\"articlesList\":{},\"articlesIds\":{},\"isLoading\":false,\"pagesCount\":{},\"route\":{},\"reasonsList\":null,\"postReasonsList\":null,\"view\":\"list\",\"lastVisitedRoute\":{},\"ssrCommentsArticleIds\":[],\"viewedPosts\":[],\"myFeedFilter\":{\"complexity\":\"all\",\"score\":\"all\",\"types\":[\"articles\",\"posts\",\"news\"]},\"myFeedIsApplyFilters\":false,\"myFeedIsForce\":false,\"karma\":{\"userReasonsList\":null}},\"authorContribution\":{\"authors\":{}},\"betaTest\":{\"currentAnnouncement\":null,\"announcements\":{},\"announcementCards\":null,\"announcementComments\":{},\"announcementCommentThreads\":{},\"announcementCommentingStatuses\":{},\"archivedList\":[]},\"authorStatistics\":{\"articleRefs\":{},\"articleIds\":{},\"pagesCount\":{},\"route\":{},\"viewsCount\":[],\"maxStatsCount\":{}},\"career\":{\"seoLandings\":[],\"hubs\":\"\"},\"comments\":{\"articleComments\":{},\"articlePinnedComments\":{},\"searchCommentsResults\":null,\"pagesCount\":null,\"commentAccess\":{},\"scrollParents\":{},\"pageArticleComments\":{\"lastViewedComment\":0,\"postId\":null,\"lastCommentTimestamp\":\"\",\"moderated\":[],\"moderatedIds\":[],\"commentRoute\":\"\",\"idempotenceKey\":\"\"}},\"companies\":{\"companyRefs\":{},\"companyIds\":{},\"companyTopIds\":{},\"pagesCount\":{},\"companyProfiles\":{},\"companiesCategories\":[],\"companiesCategoriesTotalCount\":0,\"companiesWidgets\":{},\"companiesWorkers\":{},\"companiesFans\":{},\"multiwidgets\":{},\"route\":{},\"isLoading\":false,\"companyWorkersLoading\":false,\"companyFansLoading\":false,\"multiwidgetLoading\":false,\"vacancies\":{},\"companiesGalleries\":{},\"companiesBanners\":{},\"companiesLandingVacancies\":{},\"companiesTechnologies\":{},\"workplaceInfo\":null},\"companyAdmin\":{\"companyInfo\":null,\"companyInfoLoading\":false,\"faqArticles\":null,\"brandingPreviewImageUrl\":null,\"jivoStatus\":0,\"adminNotifications\":null,\"availableInvitesCount\":{}},\"companyAdd\":{\"currentStep\":\"\",\"stepsData\":{},\"uncompletedSteps\":[],\"isStepLoading\":true,\"isStepCommitting\":false,\"isInitialized\":false,\"agreementContent\":\"\"},\"companiesContribution\":{\"hubs\":{},\"flows\":{},\"companyRefs\":{}},\"companyHubsContribution\":{\"contributionRefs\":{\"hubRefs\":{},\"hubIds\":{}}},\"conversation\":{\"messages\":[],\"respondent\":null,\"isLoadMore\":false},\"conversations\":{\"conversations\":[],\"pagesCount\":0},\"docs\":{\"menu\":{},\"articles\":{},\"mainMenu\":[],\"loading\":{\"main\":false,\"dropdown\":false,\"article\":false}},\"feature\":{\"isProbablyVisible\":true},\"fixedBanner\":{\"isArticleStickyPanelVisible\":false,\"isArticleStickyPanelAtTheBottom\":false,\"isFixedBannerVisible\":false},\"flows\":{\"flows\":[{\"id\":\"1\",\"alias\":\"develop\",\"title\":\"Разработка\",\"titleHtml\":\"Разработка\",\"route\":{\"name\":\"FLOW_PAGE\",\"params\":{\"flowName\":\"develop\"}}},{\"id\":\"6\",\"alias\":\"admin\",\"title\":\"Администрирование\",\"titleHtml\":\"Администрирование\",\"route\":{\"name\":\"FLOW_PAGE\",\"params\":{\"flowName\":\"admin\"}}},{\"id\":\"2\",\"alias\":\"design\",\"title\":\"Дизайн\",\"titleHtml\":\"Дизайн\",\"route\":{\"name\":\"FLOW_PAGE\",\"params\":{\"flowName\":\"design\"}}},{\"id\":\"3\",\"alias\":\"management\",\"title\":\"Менеджмент\",\"titleHtml\":\"Менеджмент\",\"route\":{\"name\":\"FLOW_PAGE\",\"params\":{\"flowName\":\"management\"}}},{\"id\":\"4\",\"alias\":\"marketing\",\"title\":\"Маркетинг\",\"titleHtml\":\"Маркетинг\",\"route\":{\"name\":\"FLOW_PAGE\",\"params\":{\"flowName\":\"marketing\"}}},{\"id\":\"7\",\"alias\":\"popsci\",\"title\":\"Научпоп\",\"titleHtml\":\"Научпоп\",\"route\":{\"name\":\"FLOW_PAGE\",\"params\":{\"flowName\":\"popsci\"}}}],\"updates\":{}},\"global\":{\"isPwa\":false,\"device\":\"mobile\",\"isHabrCom\":true,\"requestId\":\"f9c49682e8f9701a7694c47e8a00782b\"},\"hubs\":{\"hubRefs\":{},\"hubIds\":{},\"pagesCount\":{},\"isLoading\":false,\"route\":{}},\"hubsBlock\":{\"hubRefs\":{},\"hubIds\":{}},\"i18n\":{\"fl\":\"ru\",\"hl\":\"ru\"},\"info\":{\"welcomePage\":{},\"isLoading\":true},\"location\":{\"urlStruct\":{\"protocol\":null,\"slashes\":null,\"auth\":null,\"host\":null,\"port\":null,\"hostname\":null,\"hash\":null,\"query\":{},\"pathname\":\"\\\\u002Fru\\\\u002Fsearch\\\\u002F\",\"path\":\"\\\\u002Fru\\\\u002Fsearch\\\\u002F\",\"href\":\"\\\\u002Fru\\\\u002Fsearch\\\\u002F\"}},\"me\":{\"user\":null,\"uuid\":null,\"ppgDemanded\":false,\"karmaResetInfo\":{\"canReincarnate\":null,\"wasReincarnated\":null,\"currentScore\":null},\"notes\":null,\"userUpdates\":{\"feeds\":{\"newPostsCount\":null,\"newThreadsCount\":null,\"newNewsCount\":null,\"newCount\":null},\"conversationUnreadCount\":0}},\"mostReadingList\":{\"mostReadingListIds\":[],\"mostReadingListRefs\":null,\"promoPost\":null},\"onboarding\":{\"currentStep\":null,\"stepsData\":{},\"stepsErrors\":{},\"completedSteps\":[],\"isStepCommitting\":false,\"isCommitDisabled\":true},\"ppa\":{\"articles\":{},\"card\":null,\"transactions\":null,\"totalTransactions\":null,\"isAccessible\":null},\"projectsBlocks\":{\"activeBlocks\":{}},\"promoData\":{\"isLoading\":false,\"hasLoaded\":false,\"featurer\":null,\"megaposts\":null,\"promoLinks\":null,\"promoPosts\":null,\"sticker\":null},\"publicationStatistics\":{\"statsInfo\":{},\"statsFunnels\":{},\"statsGraph\":{},\"defaultSuggest\":{},\"suggest\":{},\"timeTracker\":{},\"isTrackingActivity\":false,\"isUserActive\":true,\"otherPublicationStats\":{}},\"pullRefresh\":{\"shouldRefresh\":false},\"sandbox\":{\"articleIds\":[],\"articleRefs\":{},\"pagesCount\":null,\"route\":{},\"lastVisitedRoute\":{},\"isLoading\":false},\"search\":{\"searchQueryError\":null},\"settingsOther\":{\"inputs\":{\"uiLang\":{\"errors\":[],\"ref\":null,\"value\":\"\"},\"articlesLangEnglish\":{\"errors\":[],\"ref\":null,\"value\":false},\"articlesLangRussian\":{\"errors\":[],\"ref\":null,\"value\":false},\"agreement\":{\"errors\":[],\"ref\":null,\"value\":false},\"email\":{\"errors\":[],\"ref\":null,\"value\":true},\"digest\":{\"errors\":[],\"ref\":null,\"value\":true}}},\"similarList\":{\"similarListIds\":[],\"similarListRefs\":null},\"ssr\":{\"error\":null,\"isDataLoaded\":true,\"isDataLoading\":false,\"isHydrationFailed\":false,\"isServer\":false},\"stories\":{\"stories\":[{\"id\":\"story-1010\",\"author\":{\"logo\":\"https:\\\\u002F\\\\u002Fhabrastorage.org\\\\u002Fgetpro\\\\u002Fhabr\\\\u002Fupload_files\\\\u002F2ff\\\\u002Ffa5\\\\u002Fd97\\\\u002F2fffa5d9751a2bb9b711b63b34537a38.png\",\"title\":\"Яндекс 360\",\"link\":\"https:\\\\u002F\\\\u002Fu.habr.com\\\\u002Fya360_bt\"},\"title\":\"Идем на митап от Яндекс 360\",\"lang\":\"ru\",\"startTime\":\"2025-04-03T18:00:00+03:00\",\"finishTime\":\"2025-04-16T23:59:00+03:00\",\"slides\":[{\"id\":\"story-1010_1\",\"image\":\"https:\\\\u002F\\\\u002Fhabrastorage.org\\\\u002Fgetpro\\\\u002Fhabr\\\\u002Fupload_files\\\\u002F07f\\\\u002F3fd\\\\u002F5a3\\\\u002F07f3fd5a35c27392c6bb49bd4e46f1b7.png\",\"button\":{\"title\":\"Узнать о митапе\",\"link\":\"https:\\\\u002F\\\\u002Fu.habr.com\\\\u002Fya360_bt\",\"colorType\":\"dark\"}},{\"id\":\"story-1010_2\",\"image\":\"https:\\\\u002F\\\\u002Fhabrastorage.org\\\\u002Fgetpro\\\\u002Fhabr\\\\u002Fupload_files\\\\u002Ff9f\\\\u002Fd5b\\\\u002F389\\\\u002Ff9fd5b38997be20ad35ff40b4f6482f7.png\",\"button\":{\"title\":\"Программа митапа\",\"link\":\"https:\\\\u002F\\\\u002Fu.habr.com\\\\u002Fya360_bt\",\"colorType\":\"light\"}},{\"id\":\"story-1010_3\",\"image\":\"https:\\\\u002F\\\\u002Fhabrastorage.org\\\\u002Fgetpro\\\\u002Fhabr\\\\u002Fupload_files\\\\u002F134\\\\u002F446\\\\u002F845\\\\u002F13444684579c8b680cfd167f295f4ce5.png\",\"button\":{\"title\":\"Узнать больше\",\"link\":\"https:\\\\u002F\\\\u002Fu.habr.com\\\\u002Fya360_bt\",\"colorType\":\"light\"}},{\"id\":\"story-1010_4\",\"image\":\"https:\\\\u002F\\\\u002Fhabrastorage.org\\\\u002Fgetpro\\\\u002Fhabr\\\\u002Fupload_files\\\\u002Fdca\\\\u002F342\\\\u002F377\\\\u002Fdca342377e6a97a9a441f8a7fa5d02d0.png\",\"button\":{\"title\":\"Зарегистрироваться\",\"link\":\"https:\\\\u002F\\\\u002Fu.habr.com\\\\u002Fya360_bt\",\"colorType\":\"light\"}}]},{\"id\":\"story-1008\",\"author\":{\"logo\":\"https:\\\\u002F\\\\u002Fhabrastorage.org\\\\u002Fgetpro\\\\u002Fhabr\\\\u002Fupload_files\\\\u002F1c6\\\\u002F28d\\\\u002F606\\\\u002F1c628d606b8e589fba1e6ca01058cc8d.png\",\"title\":\"Хабр\",\"link\":null},\"title\":\"ТОП годноты из блогов компаний\",\"lang\":\"ru\",\"startTime\":\"2025-04-03T10:46:00+03:00\",\"finishTime\":\"2025-04-16T23:59:00+03:00\",\"slides\":[{\"id\":\"story-1008_1\",\"image\":\"https:\\\\u002F\\\\u002Fhabrastorage.org\\\\u002Fgetpro\\\\u002Fhabr\\\\u002Fupload_files\\\\u002F6e7\\\\u002F050\\\\u002F0fa\\\\u002F6e70500fa39bdba7622e268a6552e93c.jpg\",\"button\":null},{\"id\":\"story-1008_2\",\"image\":\"https:\\\\u002F\\\\u002Fhabrastorage.org\\\\u002Fgetpro\\\\u002Fhabr\\\\u002Fupload_files\\\\u002F1e5\\\\u002Fd32\\\\u002F302\\\\u002F1e5d32302bd8b54307b9279f0b1ac233.jpg\",\"button\":{\"title\":\"Обзор гаджета\",\"link\":\"https:\\\\u002F\\\\u002Fhabr.com\\\\u002Fru\\\\u002Fcompanies\\\\u002Ftimeweb\\\\u002Farticles\\\\u002F892116\\\\u002F\",\"colorType\":\"dark\"}},{\"id\":\"story-1008_3\",\"image\":\"https:\\\\u002F\\\\u002Fhabrastorage.org\\\\u002Fgetpro\\\\u002Fhabr\\\\u002Fupload_files\\\\u002F5a2\\\\u002F75d\\\\u002F2b8\\\\u002F5a275d2b88902ec1662e48fd2445273c.jpg\",\"button\":{\"title\":\"Проще вручную\",\"link\":\"https:\\\\u002F\\\\u002Fhabr.com\\\\u002Fru\\\\u002Fcompanies\\\\u002Fruvds\\\\u002Farticles\\\\u002F894602\\\\u002F\",\"colorType\":\"dark\"}},{\"id\":\"story-1008_4\",\"image\":\"https:\\\\u002F\\\\u002Fhabrastorage.org\\\\u002Fgetpro\\\\u002Fhabr\\\\u002Fupload_files\\\\u002F705\\\\u002F17c\\\\u002F73a\\\\u002F70517c73a0b803c3e9daa9a6e81c913a.jpg\",\"button\":{\"title\":\"Парусная история\",\"link\":\"https:\\\\u002F\\\\u002Fhabr.com\\\\u002Fru\\\\u002Fcompanies\\\\u002Falfa\\\\u002Farticles\\\\u002F889822\\\\u002F\",\"colorType\":\"dark\"}},{\"id\":\"story-1008_5\",\"image\":\"https:\\\\u002F\\\\u002Fhabrastorage.org\\\\u002Fgetpro\\\\u002Fhabr\\\\u002Fupload_files\\\\u002Faf4\\\\u002F80f\\\\u002F79b\\\\u002Faf480f79b4acae63cb4ba72a2cb9f77b.jpg\",\"button\":{\"title\":\"Больше деталей\",\"link\":\"https:\\\\u002F\\\\u002Fhabr.com\\\\u002Fru\\\\u002Fcompanies\\\\u002Fselectel\\\\u002Farticles\\\\u002F887272\\\\u002F\",\"colorType\":\"light\"}},{\"id\":\"story-1008_6\",\"image\":\"https:\\\\u002F\\\\u002Fhabrastorage.org\\\\u002Fgetpro\\\\u002Fhabr\\\\u002Fupload_files\\\\u002F3bd\\\\u002Fca9\\\\u002F4c5\\\\u002F3bdca94c5560068e50f11e267b1691c4.jpg\",\"button\":{\"title\":\"Цитаты и мысли\",\"link\":\"https:\\\\u002F\\\\u002Fhabr.com\\\\u002Fru\\\\u002Fcompanies\\\\u002Fru_mts\\\\u002Farticles\\\\u002F891462\\\\u002F\",\"colorType\":\"light\"}},{\"id\":\"story-1008_7\",\"image\":\"https:\\\\u002F\\\\u002Fhabrastorage.org\\\\u002Fgetpro\\\\u002Fhabr\\\\u002Fupload_files\\\\u002F953\\\\u002Fc8e\\\\u002F085\\\\u002F953c8e08520500921c8f1991fdbee21d.jpg\",\"button\":{\"title\":\"Мифы и реальность\",\"link\":\"https:\\\\u002F\\\\u002Fhabr.com\\\\u002Fru\\\\u002Fcompanies\\\\u002Fminerva_media\\\\u002Farticles\\\\u002F893792\\\\u002F\",\"colorType\":\"light\"}},{\"id\":\"story-1008_8\",\"image\":\"https:\\\\u002F\\\\u002Fhabrastorage.org\\\\u002Fgetpro\\\\u002Fhabr\\\\u002Fupload_files\\\\u002F6ff\\\\u002F528\\\\u002F3b8\\\\u002F6ff5283b8da568f92dfade7484b923b1.jpg\",\"button\":{\"title\":\"Графики и диаграммы\",\"link\":\"https:\\\\u002F\\\\u002Fhabr.com\\\\u002Fru\\\\u002Fcompanies\\\\u002Ftbank\\\\u002Farticles\\\\u002F890658\\\\u002F\",\"colorType\":\"light\"}}]},{\"id\":\"story-1006\",\"author\":{\"logo\":\"https:\\\\u002F\\\\u002Fhabrastorage.org\\\\u002Fgetpro\\\\u002Fhabr\\\\u002Fupload_files\\\\u002F26b\\\\u002F4ec\\\\u002F115\\\\u002F26b4ec115e7d731c3c373dc9193f1e90.png\",\"title\":\"Хабр\",\"link\":null},\"title\":\"Никому не верю\",\"lang\":\"ru\",\"startTime\":\"2025-04-01T16:00:00+03:00\",\"finishTime\":\"2025-04-13T16:00:00+03:00\",\"slides\":[{\"id\":\"story-1006_1\",\"image\":\"https:\\\\u002F\\\\u002Fhabrastorage.org\\\\u002Fgetpro\\\\u002Fhabr\\\\u002Fupload_files\\\\u002Fe80\\\\u002F292\\\\u002Ff58\\\\u002Fe80292f58fa625afba5822d6619399c0.jpg\",\"button\":null},{\"id\":\"story-1006_2\",\"image\":\"https:\\\\u002F\\\\u002Fhabrastorage.org\\\\u002Fgetpro\\\\u002Fhabr\\\\u002Fupload_files\\\\u002F8df\\\\u002Fe03\\\\u002F88e\\\\u002F8dfe0388ef06dc736da6d62f2092209c.jpg\",\"button\":{\"title\":\"Тексты и фото\",\"link\":\"https:\\\\u002F\\\\u002Fhabr.com\\\\u002Fru\\\\u002Farticles\\\\u002F653053\\\\u002F\",\"colorType\":\"light\"}},{\"id\":\"story-1006_3\",\"image\":\"https:\\\\u002F\\\\u002Fhabrastorage.org\\\\u002Fgetpro\\\\u002Fhabr\\\\u002Fupload_files\\\\u002F9ee\\\\u002F90b\\\\u002F85d\\\\u002F9ee90b85d9a06c23a76e11086afc5e51.jpg\",\"button\":{\"title\":\"Анамнез\",\"link\":\"https:\\\\u002F\\\\u002Fhabr.com\\\\u002Fru\\\\u002Farticles\\\\u002F877844\\\\u002F\",\"colorType\":\"light\"}},{\"id\":\"story-1006_4\",\"image\":\"https:\\\\u002F\\\\u002Fhabrastorage.org\\\\u002Fgetpro\\\\u002Fhabr\\\\u002Fupload_files\\\\u002F9e2\\\\u002F91f\\\\u002F197\\\\u002F9e291f1977394d7ed9fb75e893eda6d3.jpg\",\"button\":{\"title\":\"Репозитории\",\"link\":\"https:\\\\u002F\\\\u002Fhabr.com\\\\u002Fru\\\\u002Fcompanies\\\\u002Fispmanager\\\\u002Farticles\\\\u002F725736\\\\u002F\",\"colorType\":\"light\"}},{\"id\":\"story-1006_5\",\"image\":\"https:\\\\u002F\\\\u002Fhabrastorage.org\\\\u002Fgetpro\\\\u002Fhabr\\\\u002Fupload_files\\\\u002F858\\\\u002F610\\\\u002Fc34\\\\u002F858610c343a371729872c7620bbfb3fc.jpg\",\"button\":{\"title\":\"Весь список\",\"link\":\"https:\\\\u002F\\\\u002Fhabr.com\\\\u002Fru\\\\u002Farticles\\\\u002F844406\\\\u002F\",\"colorType\":\"light\"}},{\"id\":\"story-1006_6\",\"image\":\"https:\\\\u002F\\\\u002Fhabrastorage.org\\\\u002Fgetpro\\\\u002Fhabr\\\\u002Fupload_files\\\\u002F78c\\\\u002F43a\\\\u002F00f\\\\u002F78c43a00f73592e2d2ec85a45374e4e0.jpg\",\"button\":{\"title\":\"Жизненные истории\",\"link\":\"https:\\\\u002F\\\\u002Fhabr.com\\\\u002Fru\\\\u002Fcompanies\\\\u002Fh3llo_cloud\\\\u002Farticles\\\\u002F888424\\\\u002F\",\"colorType\":\"light\"}},{\"id\":\"story-1006_7\",\"image\":\"https:\\\\u002F\\\\u002Fhabrastorage.org\\\\u002Fgetpro\\\\u002Fhabr\\\\u002Fupload_files\\\\u002F7c4\\\\u002Fac5\\\\u002F2ce\\\\u002F7c4ac52ce17fafb23cb81c3e64bead66.jpg\",\"button\":{\"title\":\"Что изъяли?\",\"link\":\"https:\\\\u002F\\\\u002Fhabr.com\\\\u002Fru\\\\u002Fcompanies\\\\u002Fru_mts\\\\u002Farticles\\\\u002F857840\\\\u002F\",\"colorType\":\"light\"}},{\"id\":\"story-1006_8\",\"image\":\"https:\\\\u002F\\\\u002Fhabrastorage.org\\\\u002Fgetpro\\\\u002Fhabr\\\\u002Fupload_files\\\\u002F812\\\\u002F62e\\\\u002Fef6\\\\u002F81262eef6e55b9d931221e31316d8f1d.jpg\",\"button\":{\"title\":\"Голодным не читать\",\"link\":\"https:\\\\u002F\\\\u002Fhabr.com\\\\u002Fru\\\\u002Farticles\\\\u002F717626\\\\u002F\",\"colorType\":\"dark\"}}]},{\"id\":\"story-996\",\"author\":{\"logo\":\"https:\\\\u002F\\\\u002Fhabrastorage.org\\\\u002Fgetpro\\\\u002Fhabr\\\\u002Fupload_files\\\\u002Fe63\\\\u002F36d\\\\u002Fa24\\\\u002Fe6336da24460ab6b9fbc347d03eb263a.png\",\"title\":\"Хабр\",\"link\":null},\"title\":\"Здоровье айтишника\",\"lang\":\"ru\",\"startTime\":\"2025-03-17T10:22:00+03:00\",\"finishTime\":\"2025-04-13T10:22:00+03:00\",\"slides\":[{\"id\":\"story-996_1\",\"image\":\"https:\\\\u002F\\\\u002Fhabrastorage.org\\\\u002Fgetpro\\\\u002Fhabr\\\\u002Fupload_files\\\\u002Fb7c\\\\u002F6de\\\\u002F8ea\\\\u002Fb7c6de8ea6789dbc30f071716172b6dd.jpg\",\"button\":null},{\"id\":\"story-996_2\",\"image\":\"https:\\\\u002F\\\\u002Fhabrastorage.org\\\\u002Fgetpro\\\\u002Fhabr\\\\u002Fupload_files\\\\u002F2e7\\\\u002F88a\\\\u002F0fe\\\\u002F2e788a0fe61729ca8b23eb59069c844f.jpg\",\"button\":{\"title\":\"Личный опыт\",\"link\":\"https:\\\\u002F\\\\u002Fu.habr.com\\\\u002Fzd-1\",\"colorType\":\"light\"}},{\"id\":\"story-996_3\",\"image\":\"https:\\\\u002F\\\\u002Fhabrastorage.org\\\\u002Fgetpro\\\\u002Fhabr\\\\u002Fupload_files\\\\u002Fb93\\\\u002F6f4\\\\u002F256\\\\u002Fb936f425653b84fa60ab00d09f78c543.jpg\",\"button\":{\"title\":\"Как это было\",\"link\":\"https:\\\\u002F\\\\u002Fu.habr.com\\\\u002Fzd-2\",\"colorType\":\"light\"}},{\"id\":\"story-996_4\",\"image\":\"https:\\\\u002F\\\\u002Fhabrastorage.org\\\\u002Fgetpro\\\\u002Fhabr\\\\u002Fupload_files\\\\u002Fc10\\\\u002Fd14\\\\u002Ff5a\\\\u002Fc10d14f5a4859fe10baecbcc2bcb8828.jpg\",\"button\":{\"title\":\"Шея в фокусе\",\"link\":\"https:\\\\u002F\\\\u002Fu.habr.com\\\\u002Fzd-3\",\"colorType\":\"dark\"}},{\"id\":\"story-996_5\",\"image\":\"https:\\\\u002F\\\\u002Fhabrastorage.org\\\\u002Fgetpro\\\\u002Fhabr\\\\u002Fupload_files\\\\u002F535\\\\u002Fe1b\\\\u002F77a\\\\u002F535e1b77a9eb896262ad73321f2ad99f.jpg\",\"button\":{\"title\":\"Фотоинструкция\",\"link\":\"https:\\\\u002F\\\\u002Fu.habr.com\\\\u002Fzd-4\",\"colorType\":\"light\"}},{\"id\":\"story-996_6\",\"image\":\"https:\\\\u002F\\\\u002Fhabrastorage.org\\\\u002Fgetpro\\\\u002Fhabr\\\\u002Fupload_files\\\\u002F569\\\\u002Fc39\\\\u002F49f\\\\u002F569c3949f5b330ea85d4a1864f481c3d.jpg\",\"button\":{\"title\":\"Сидите (не)правильно\",\"link\":\"https:\\\\u002F\\\\u002Fu.habr.com\\\\u002Fzd-5\",\"colorType\":\"dark\"}},{\"id\":\"story-996_7\",\"image\":\"https:\\\\u002F\\\\u002Fhabrastorage.org\\\\u002Fgetpro\\\\u002Fhabr\\\\u002Fupload_files\\\\u002F1f2\\\\u002F1de\\\\u002Fdbf\\\\u002F1f21dedbf2902bc4061a75b839b63595.jpg\",\"button\":{\"title\":\"Журнал изменений\",\"link\":\"https:\\\\u002F\\\\u002Fu.habr.com\\\\u002Fzd-6\",\"colorType\":\"dark\"}},{\"id\":\"story-996_8\",\"image\":\"https:\\\\u002F\\\\u002Fhabrastorage.org\\\\u002Fgetpro\\\\u002Fhabr\\\\u002Fupload_files\\\\u002F95a\\\\u002F164\\\\u002F21b\\\\u002F95a16421badc3a9f1135309ab0c42c41.jpg\",\"button\":{\"title\":\"Альтернатива\",\"link\":\"https:\\\\u002F\\\\u002Fu.habr.com\\\\u002Fzd-7\",\"colorType\":\"light\"}},{\"id\":\"story-996_9\",\"image\":\"https:\\\\u002F\\\\u002Fhabrastorage.org\\\\u002Fgetpro\\\\u002Fhabr\\\\u002Fupload_files\\\\u002F624\\\\u002F027\\\\u002F54d\\\\u002F62402754d311798af44bcfe7f9abfedc.jpg\",\"button\":{\"title\":\"Хроника поисков\",\"link\":\"https:\\\\u002F\\\\u002Fu.habr.com\\\\u002Fzd-8\",\"colorType\":\"dark\"}}]},{\"id\":\"story-982\",\"author\":{\"logo\":\"https:\\\\u002F\\\\u002Fhabrastorage.org\\\\u002Fgetpro\\\\u002Fhabr\\\\u002Fupload_files\\\\u002Ffac\\\\u002F96a\\\\u002F98a\\\\u002Ffac96a98a938cf1193044e7f8ac0e3dd.png\",\"title\":\"Хабр\",\"link\":null},\"title\":\"IT с привкусом металла\",\"lang\":\"ru\",\"startTime\":\"2025-02-27T12:04:00+03:00\",\"finishTime\":\"2025-04-13T12:04:00+03:00\",\"slides\":[{\"id\":\"story-982_1\",\"image\":\"https:\\\\u002F\\\\u002Fhabrastorage.org\\\\u002Fgetpro\\\\u002Fhabr\\\\u002Fupload_files\\\\u002F05e\\\\u002Fac1\\\\u002Fef9\\\\u002F05eac1ef9669df65c450a6cbd3d39006.jpg\",\"button\":null},{\"id\":\"story-982_2\",\"image\":\"https:\\\\u002F\\\\u002Fhabrastorage.org\\\\u002Fgetpro\\\\u002Fhabr\\\\u002Fupload_files\\\\u002F821\\\\u002F359\\\\u002F132\\\\u002F82135913240f094f22589260b889ac7f.jpg\",\"button\":{\"title\":\"Реальные случаи\",\"link\":\"https:\\\\u002F\\\\u002Fu.habr.com\\\\u002Fzav_o1\",\"colorType\":\"dark\"}},{\"id\":\"story-982_3\",\"image\":\"https:\\\\u002F\\\\u002Fhabrastorage.org\\\\u002Fgetpro\\\\u002Fhabr\\\\u002Fupload_files\\\\u002F59a\\\\u002Ff4d\\\\u002F30b\\\\u002F59af4d30b1106bf0c00ed5230e89be82.jpg\",\"button\":{\"title\":\"Превозмогание\",\"link\":\"https:\\\\u002F\\\\u002Fu.habr.com\\\\u002Fzav_o2\",\"colorType\":\"light\"}},{\"id\":\"story-982_4\",\"image\":\"https:\\\\u002F\\\\u002Fhabrastorage.org\\\\u002Fgetpro\\\\u002Fhabr\\\\u002Fupload_files\\\\u002F5d6\\\\u002Ff80\\\\u002Fe4b\\\\u002F5d6f80e4b2c2073b4f58b1cba22b0c04.jpg\",\"button\":{\"title\":\"Что под капотом\",\"link\":\"https:\\\\u002F\\\\u002Fu.habr.com\\\\u002Fzav_o3\",\"colorType\":\"dark\"}},{\"id\":\"story-982_5\",\"image\":\"https:\\\\u002F\\\\u002Fhabrastorage.org\\\\u002Fgetpro\\\\u002Fhabr\\\\u002Fupload_files\\\\u002Faec\\\\u002F4d0\\\\u002F747\\\\u002Faec4d07470e9371e700702c56fc38a2b.jpg\",\"button\":{\"title\":\"Разгружаем вагоны\",\"link\":\"https:\\\\u002F\\\\u002Fu.habr.com\\\\u002Fzav_o4\",\"colorType\":\"light\"}},{\"id\":\"story-982_6\",\"image\":\"https:\\\\u002F\\\\u002Fhabrastorage.org\\\\u002Fgetpro\\\\u002Fhabr\\\\u002Fupload_files\\\\u002F449\\\\u002F198\\\\u002F078\\\\u002F449198078c8dbd9a50fef55589c7f02b.jpg\",\"button\":{\"title\":\"Фантастика?\",\"link\":\"https:\\\\u002F\\\\u002Fu.habr.com\\\\u002Fzav_o5\",\"colorType\":\"dark\"}},{\"id\":\"story-982_7\",\"image\":\"https:\\\\u002F\\\\u002Fhabrastorage.org\\\\u002Fgetpro\\\\u002Fhabr\\\\u002Fupload_files\\\\u002F0f7\\\\u002F442\\\\u002F4d3\\\\u002F0f74424d307527f70f663c55bd5cdc25.jpg\",\"button\":{\"title\":\"Откровения\",\"link\":\"https:\\\\u002F\\\\u002Fu.habr.com\\\\u002Fzav_o6\",\"colorType\":\"light\"}},{\"id\":\"story-982_8\",\"image\":\"https:\\\\u002F\\\\u002Fhabrastorage.org\\\\u002Fgetpro\\\\u002Fhabr\\\\u002Fupload_files\\\\u002Fb72\\\\u002F6a3\\\\u002F82d\\\\u002Fb726a382d93f4362f279304d71fdcdb9.jpg\",\"button\":{\"title\":\"Пробы и ошибки\",\"link\":\"https:\\\\u002F\\\\u002Fu.habr.com\\\\u002Fzav_o7\",\"colorType\":\"light\"}}]}]},\"technotext\":{\"years\":[],\"technotextDocForNominees\":null,\"technotextDocForWinners\":null,\"technotextInfo\":{},\"technotextInfoLoading\":false,\"technotextWinners\":{},\"technotextWinnersLoading\":false},\"userHubsContribution\":{\"contributionRefs\":{\"hubRefs\":{},\"hubIds\":{}}},\"userInvites\":{\"availableInvites\":0,\"usedInvitesIds\":[],\"usedInvitesRefs\":{},\"usedInvitesPagesCount\":0,\"unusedInvitesIds\":[],\"unusedInvitesRefs\":{},\"unusedInvitesPagesCount\":0},\"userVotes\":{\"karmaVotesList\":[],\"karmaVotesPagesCount\":null,\"karmaVotesListLoading\":false,\"commentsVotesList\":[],\"commentsVotesPagesCount\":null,\"commentsVotesListLoading\":false,\"postsVotesList\":[],\"postsVotesPagesCount\":null,\"postsVotesListLoading\":false,\"userVotesList\":[],\"userVotesPagesCount\":null,\"userVotesListLoading\":false},\"users\":{\"authorRefs\":{},\"authorIds\":{},\"pagesCount\":{},\"authorProfiles\":{},\"userHubs\":{},\"userInvitations\":{},\"authorFollowers\":{},\"authorFollowed\":{},\"userSpecialization\":{},\"karmaStats\":[],\"statistics\":null,\"isLoading\":false,\"authorFollowersLoading\":false,\"authorFollowedLoading\":false,\"userHubsLoading\":false,\"userInvitationsLoading\":false,\"route\":{}},\"viewport\":{\"prevScrollY\":{},\"scrollY\":0,\"width\":0},\"tracker\":{\"notificationsLoading\":false,\"notificationsList\":[],\"notificationsPageCount\":0,\"pendingMarkNotificationsRead\":[],\"publicationsLoading\":true,\"publicationsList\":[],\"publicationsPageCount\":0,\"pendingDeletePublications\":false,\"pendingMarkPublicationsRead\":false},\"events\":{\"eventRefs\":{},\"eventIds\":[],\"pagesCount\":0,\"categories\":[],\"cities\":[],\"actualEvents\":null,\"currentEvent\":null,\"eventsFilter\":{\"city\":\"all\",\"timeStarted\":null,\"timeEnded\":null}},\"wysiwyg\":{\"WYSIWYGRulesRefs\":null},\"hint\":{\"hints\":{}}};(function(){var s;(s=document.currentScript||document.scripts[document.scripts.length-1]).parentNode.removeChild(s);}());</script><script src=\"https://assets.habr.com/habr-web/js/chunk-vendors.e4e29f68.js\" defer></script><script src=\"https://assets.habr.com/habr-web/js/search.16c77a39.js\" defer></script><script src=\"https://assets.habr.com/habr-web/js/app.02580165.js\" defer></script></div>\\n    <div id=\"overlays\"><!----><!--teleport anchor--><!----><!--teleport anchor--></div>\\n    \\n    \\n    <script async src=\"https://www.googletagmanager.com/gtag/js?id=G-S28W1WC23F\"></script>\\n    <script>\\n      window.dataLayer = window.dataLayer || [];\\n      function gtag(){dataLayer.push(arguments);}\\n      gtag(\\'js\\', new Date());\\n    </script>\\n  \\n  <script type=\"text/javascript\" >\\n    (function(m,e,t,r,i,k,a){m[i]=m[i]||function(){(m[i].a=m[i].a||[]).push(arguments)};\\n    m[i].l=1*new Date();k=e.createElement(t),a=e.getElementsByTagName(t)[0],k.async=1,k.src=r,a.parentNode.insertBefore(k,a)})\\n    (window, document, \"script\", \"https://mc.yandex.ru/metrika/tag.js\", \"ym\");\\n\\n  </script>\\n    <script type=\"text/javascript\">\\n      window.addEventListener(\\'load\\', function () {\\n        setTimeout(() => {\\n          const img = new Image();\\n          img.src = \\'https://vk.com/rtrg?p=VK-RTRG-421343-57vKE\\';\\n        }, 0);\\n      });\\n    </script>\\n  \\n    </body>\\n\\n    </html>\\n'"
            ],
            "application/vnd.google.colaboratory.intrinsic+json": {
              "type": "string"
            }
          },
          "metadata": {},
          "execution_count": 3
        }
      ]
    },
    {
      "cell_type": "code",
      "source": [
        "from bs4 import BeautifulSoup"
      ],
      "metadata": {
        "id": "FYFRKkmJRjZK"
      },
      "execution_count": null,
      "outputs": []
    },
    {
      "cell_type": "code",
      "source": [
        "import pandas as pd\n"
      ],
      "metadata": {
        "id": "FecRGS0qSTt6"
      },
      "execution_count": null,
      "outputs": []
    },
    {
      "cell_type": "code",
      "source": [
        "list__x = ['python', 'анализ данных']\n",
        "#list = []\n",
        "#url = 'https://habr.com/ru/search/?q='\n",
        "#url_1 = 'https://habr.com/'\n",
        "def data_(list__x):\n",
        "    url = 'https://habr.com/ru/search/?q='\n",
        "    url_1 = 'https://habr.com'\n",
        "    list = []\n",
        "    for i in list__x:\n",
        "      res = requests.get(f'{url} + {i}+&target_type=posts&order=relevance')\n",
        "      soup = BeautifulSoup(res.text)\n",
        "      book = soup.find_all('div', class_=\"tm-articles-list\")\n",
        "      books = soup.find_all('article')\n",
        "\n",
        "      for ii in books:\n",
        "        date = ii.find('time').get('title')\n",
        "        heading = ii.find('h2').find('span').text\n",
        "        link = ii.find('h2').find_next('a').get('href')\n",
        "        list.append({'дата': date, 'heading': heading, 'ссылка на материал': url_1 + link})\n",
        "      #print(list)\n",
        "\n",
        "    return list\n",
        "\n",
        "dict = (data_(list__x))\n",
        "print(dict)\n",
        "a = pd.DataFrame(dict)\n",
        "print(a)\n",
        "#a.download('/content/result.csv')"
      ],
      "metadata": {
        "colab": {
          "base_uri": "https://localhost:8080/"
        },
        "id": "caf8t1qyZif_",
        "outputId": "b442b809-f39e-4c17-dd0d-3d8694739e1b"
      },
      "execution_count": null,
      "outputs": [
        {
          "output_type": "stream",
          "name": "stdout",
          "text": [
            "[{'дата': '2024-12-24, 09:20', 'heading': 'Один из ключевых разработчиков CPython Тим Питерс вернулся в сообщество Python после трехмесячного бана', 'ссылка на материал': 'https://habr.com/ru/news/869196/'}, {'дата': '2022-01-20, 18:37', 'heading': 'Курс «Python для инженеров». Старт 3 потока 31 января', 'ссылка на материал': 'https://habr.com/ru/companies/slurm/news/646825/'}, {'дата': '2021-12-13, 09:00', 'heading': 'Жаждущим автоматизации: открытый урок «ChatOps c Errbot на Python», 21 декабря', 'ссылка на материал': 'https://habr.com/ru/companies/slurm/news/595093/'}, {'дата': '2024-09-02, 10:27', 'heading': '55% Python-разработчиков используют Linux-окружение и 22% — редактор Visual Studio Code', 'ссылка на материал': 'https://habr.com/ru/news/840224/'}, {'дата': '2022-01-13, 18:35', 'heading': 'Открытый урок «Пишем Custom Prometheus Exporter на Python», 19 января', 'ссылка на материал': 'https://habr.com/ru/companies/slurm/news/645485/'}, {'дата': '2023-09-19, 07:42', 'heading': 'Microsoft представила дополнение Python Editor от команды Excel Labs', 'ссылка на материал': 'https://habr.com/ru/news/761862/'}, {'дата': '2023-11-09, 14:05', 'heading': 'Alchemer совместно с JetBrains и Python Software Foundation запустила «Опрос Python-разработчиков 2023»', 'ссылка на материал': 'https://habr.com/ru/news/772872/'}, {'дата': '2021-07-06, 13:29', 'heading': 'Python Community Meetup 8/07: видео и материалы встречи', 'ссылка на материал': 'https://habr.com/ru/companies/raiffeisenbank/news/566370/'}, {'дата': '2020-04-21, 18:35', 'heading': 'Вышел Python 2.7.18, последний релиз ветки Python 2.x', 'ссылка на материал': 'https://habr.com/ru/news/498364/'}, {'дата': '2023-08-22, 20:14', 'heading': 'Microsoft добавила Python в Excel', 'ссылка на материал': 'https://habr.com/ru/news/756266/'}, {'дата': '2023-10-20, 07:17', 'heading': 'Автор курсов по Python и Pandas жалуется на вечный бан за рекламу торговли экзотическими животными', 'ссылка на материал': 'https://habr.com/ru/news/768702/'}, {'дата': '2024-11-20, 09:05', 'heading': 'Как мы обновили курсы для Python-разработчиков', 'ссылка на материал': 'https://habr.com/ru/companies/yandex_praktikum/news/859368/'}, {'дата': '2023-10-09, 08:39', 'heading': 'JetBrains и Python Software Foundation рассказали, как разработчики использовали Python в 2022 году', 'ссылка на материал': 'https://habr.com/ru/news/766124/'}, {'дата': '2023-10-09, 15:23', 'heading': 'Три уровня погружения в Python. Запись докладов с Python Meetup и полезные материалы', 'ссылка на материал': 'https://habr.com/ru/companies/selectel/news/766270/'}, {'дата': '2022-10-25, 12:02', 'heading': 'Вышел Python 3.11', 'ссылка на материал': 'https://habr.com/ru/news/695298/'}, {'дата': '2022-03-08, 12:13', 'heading': 'Вышел мартовский релиз расширения Python для Visual Studio Code', 'ссылка на материал': 'https://habr.com/ru/news/654707/'}, {'дата': '2021-11-16, 16:09', 'heading': 'EPAM разработала бесплатный курс по программированию для детей и подростков «Chatbot on Python. Part 1»', 'ссылка на материал': 'https://habr.com/ru/companies/epam_systems/news/589555/'}, {'дата': '2020-12-04, 21:03', 'heading': 'Python как компилируемый статически типизированный язык программирования', 'ссылка на материал': 'https://habr.com/ru/news/531402/'}, {'дата': '2024-10-23, 09:14', 'heading': '1С VS Python – новый выпуск ютуб-шоу «Согласен / Не согласен»', 'ссылка на материал': 'https://habr.com/ru/companies/skbkontur/news/852712/'}, {'дата': '2024-07-01, 14:46', 'heading': 'Релиз открытой библиотеки для быстрой обработки данных Python Polars 1.0', 'ссылка на материал': 'https://habr.com/ru/news/825868/'}, {'дата': '2024-12-10, 15:27', 'heading': 'Центральный университет и AIRI создают лабораторию ИИ, анализа данных и моделирования', 'ссылка на материал': 'https://habr.com/ru/news/865422/'}, {'дата': '2022-08-18, 16:37', 'heading': 'Вебинар «От идеи до внедрения. Как построить систему анализа данных для промышленного предприятия»', 'ссылка на материал': 'https://habr.com/ru/companies/factory5/news/683358/'}, {'дата': '2022-10-26, 15:32', 'heading': 'Как понять, что пришло время внедрять платформу для анализа данных?', 'ссылка на материал': 'https://habr.com/ru/companies/factory5/articles/695622/'}, {'дата': '2015-11-11, 08:39', 'heading': 'Как мы учим машинному обучению и анализу данных в «Билайн»', 'ссылка на материал': 'https://habr.com/ru/companies/beeline/articles/270619/'}, {'дата': '2013-04-30, 13:17', 'heading': 'Открылся новый набор в Школу анализа данных Яндекса', 'ссылка на материал': 'https://habr.com/ru/companies/yandex/articles/178455/'}, {'дата': '2023-03-01, 10:28', 'heading': 'Все про Школу анализа данных от Яндекса', 'ссылка на материал': 'https://habr.com/ru/articles/719692/'}, {'дата': '2014-04-24, 18:40', 'heading': 'Новый набор в Школу анализа данных Яндекса и разбор вступительного экзамена', 'ссылка на материал': 'https://habr.com/ru/companies/yandex/articles/220561/'}, {'дата': '2011-06-16, 21:18', 'heading': 'Школа анализа данных Яндекса: снова выпускной', 'ссылка на материал': 'https://habr.com/ru/companies/yandex/articles/122021/'}, {'дата': '2017-07-25, 13:47', 'heading': '10 лет Школе анализа данных Яндекса', 'ссылка на материал': 'https://habr.com/ru/companies/yandex/articles/334066/'}, {'дата': '2015-08-04, 14:09', 'heading': 'В чем разница между наукой о данных, анализом данных, большими данными, аналитикой, дата майнингом и машинным обучением', 'ссылка на материал': 'https://habr.com/ru/companies/io/articles/264125/'}, {'дата': '2025-01-05, 10:18', 'heading': '7 красивейших интегралов с экзамена в Школу Анализа Данных от Яндекса', 'ссылка на материал': 'https://habr.com/ru/articles/871686/'}, {'дата': '2022-06-21, 16:31', 'heading': 'Яндекс Практикум запускает программу по математике для анализа данных', 'ссылка на материал': 'https://habr.com/ru/companies/yandex_praktikum/news/672670/'}, {'дата': '2023-06-14, 12:18', 'heading': 'Новая библиотека для анализа данных Pandas AI: стоит ли пробовать?', 'ссылка на материал': 'https://habr.com/ru/news/741664/'}, {'дата': '2023-09-26, 19:13', 'heading': 'В России начался отбор на национальную школьную олимпиаду DANO по анализу данных', 'ссылка на материал': 'https://habr.com/ru/news/763620/'}, {'дата': '2024-04-27, 10:20', 'heading': 'Начните учиться бесплатно на курсе «Python для анализа данных» в Яндекс Практикуме', 'ссылка на материал': 'https://habr.com/ru/companies/yandex_praktikum/news/810895/'}, {'дата': '2022-10-04, 17:23', 'heading': 'Factory5 представила бесплатный сервис по анализу данных для решения задач бизнеса с помощью ИИ', 'ссылка на материал': 'https://habr.com/ru/companies/factory5/news/691508/'}, {'дата': '2020-04-17, 14:38', 'heading': 'В Яндекс.Облаке открыт доступ к анализу данных по самоизоляции и распространению коронавируса', 'ссылка на материал': 'https://habr.com/ru/companies/yandex/news/497766/'}, {'дата': '2023-01-25, 11:56', 'heading': 'СК проверит контракт на поставку МВД системы для анализа данных на смартфонах', 'ссылка на материал': 'https://habr.com/ru/news/712684/'}, {'дата': '2024-09-17, 16:00', 'heading': 'ИТМО провёл исследование open source в сферах машинного обучения и анализа данных', 'ссылка на материал': 'https://habr.com/ru/news/844072/'}, {'дата': '2024-08-14, 16:20', 'heading': 'IBM анонсировала бесплатные курсы в области анализа данных и кибербезопасности', 'ссылка на материал': 'https://habr.com/ru/news/836040/'}]\n",
            "                 дата                                            heading  \\\n",
            "0   2024-12-24, 09:20  Один из ключевых разработчиков CPython Тим Пит...   \n",
            "1   2022-01-20, 18:37  Курс «Python для инженеров». Старт 3 потока 31...   \n",
            "2   2021-12-13, 09:00  Жаждущим автоматизации: открытый урок «ChatOps...   \n",
            "3   2024-09-02, 10:27  55% Python-разработчиков используют Linux-окру...   \n",
            "4   2022-01-13, 18:35  Открытый урок «Пишем Custom Prometheus Exporte...   \n",
            "5   2023-09-19, 07:42  Microsoft представила дополнение Python Editor...   \n",
            "6   2023-11-09, 14:05  Alchemer совместно с JetBrains и Python Softwa...   \n",
            "7   2021-07-06, 13:29  Python Community Meetup 8/07: видео и материал...   \n",
            "8   2020-04-21, 18:35  Вышел Python 2.7.18, последний релиз ветки Pyt...   \n",
            "9   2023-08-22, 20:14                  Microsoft добавила Python в Excel   \n",
            "10  2023-10-20, 07:17  Автор курсов по Python и Pandas жалуется на ве...   \n",
            "11  2024-11-20, 09:05     Как мы обновили курсы для Python-разработчиков   \n",
            "12  2023-10-09, 08:39  JetBrains и Python Software Foundation рассказ...   \n",
            "13  2023-10-09, 15:23  Три уровня погружения в Python. Запись докладо...   \n",
            "14  2022-10-25, 12:02                                  Вышел Python 3.11   \n",
            "15  2022-03-08, 12:13  Вышел мартовский релиз расширения Python для V...   \n",
            "16  2021-11-16, 16:09  EPAM разработала бесплатный курс по программир...   \n",
            "17  2020-12-04, 21:03  Python как компилируемый статически типизирова...   \n",
            "18  2024-10-23, 09:14  1С VS Python – новый выпуск ютуб-шоу «Согласен...   \n",
            "19  2024-07-01, 14:46  Релиз открытой библиотеки для быстрой обработк...   \n",
            "20  2024-12-10, 15:27  Центральный университет и AIRI создают лаборат...   \n",
            "21  2022-08-18, 16:37  Вебинар «От идеи до внедрения. Как построить с...   \n",
            "22  2022-10-26, 15:32  Как понять, что пришло время внедрять платформ...   \n",
            "23  2015-11-11, 08:39  Как мы учим машинному обучению и анализу данны...   \n",
            "24  2013-04-30, 13:17  Открылся новый набор в Школу анализа данных Ян...   \n",
            "25  2023-03-01, 10:28            Все про Школу анализа данных от Яндекса   \n",
            "26  2014-04-24, 18:40  Новый набор в Школу анализа данных Яндекса и р...   \n",
            "27  2011-06-16, 21:18      Школа анализа данных Яндекса: снова выпускной   \n",
            "28  2017-07-25, 13:47                10 лет Школе анализа данных Яндекса   \n",
            "29  2015-08-04, 14:09  В чем разница между наукой о данных, анализом ...   \n",
            "30  2025-01-05, 10:18  7 красивейших интегралов с экзамена в Школу Ан...   \n",
            "31  2022-06-21, 16:31  Яндекс Практикум запускает программу по матема...   \n",
            "32  2023-06-14, 12:18  Новая библиотека для анализа данных Pandas AI:...   \n",
            "33  2023-09-26, 19:13  В России начался отбор на национальную школьну...   \n",
            "34  2024-04-27, 10:20  Начните учиться бесплатно на курсе «Python для...   \n",
            "35  2022-10-04, 17:23  Factory5 представила бесплатный сервис по анал...   \n",
            "36  2020-04-17, 14:38  В Яндекс.Облаке открыт доступ к анализу данных...   \n",
            "37  2023-01-25, 11:56  СК проверит контракт на поставку МВД системы д...   \n",
            "38  2024-09-17, 16:00  ИТМО провёл исследование open source в сферах ...   \n",
            "39  2024-08-14, 16:20  IBM анонсировала бесплатные курсы в области ан...   \n",
            "\n",
            "                                   ссылка на материал  \n",
            "0                    https://habr.com/ru/news/869196/  \n",
            "1    https://habr.com/ru/companies/slurm/news/646825/  \n",
            "2    https://habr.com/ru/companies/slurm/news/595093/  \n",
            "3                    https://habr.com/ru/news/840224/  \n",
            "4    https://habr.com/ru/companies/slurm/news/645485/  \n",
            "5                    https://habr.com/ru/news/761862/  \n",
            "6                    https://habr.com/ru/news/772872/  \n",
            "7   https://habr.com/ru/companies/raiffeisenbank/n...  \n",
            "8                    https://habr.com/ru/news/498364/  \n",
            "9                    https://habr.com/ru/news/756266/  \n",
            "10                   https://habr.com/ru/news/768702/  \n",
            "11  https://habr.com/ru/companies/yandex_praktikum...  \n",
            "12                   https://habr.com/ru/news/766124/  \n",
            "13  https://habr.com/ru/companies/selectel/news/76...  \n",
            "14                   https://habr.com/ru/news/695298/  \n",
            "15                   https://habr.com/ru/news/654707/  \n",
            "16  https://habr.com/ru/companies/epam_systems/new...  \n",
            "17                   https://habr.com/ru/news/531402/  \n",
            "18  https://habr.com/ru/companies/skbkontur/news/8...  \n",
            "19                   https://habr.com/ru/news/825868/  \n",
            "20                   https://habr.com/ru/news/865422/  \n",
            "21  https://habr.com/ru/companies/factory5/news/68...  \n",
            "22  https://habr.com/ru/companies/factory5/article...  \n",
            "23  https://habr.com/ru/companies/beeline/articles...  \n",
            "24  https://habr.com/ru/companies/yandex/articles/...  \n",
            "25               https://habr.com/ru/articles/719692/  \n",
            "26  https://habr.com/ru/companies/yandex/articles/...  \n",
            "27  https://habr.com/ru/companies/yandex/articles/...  \n",
            "28  https://habr.com/ru/companies/yandex/articles/...  \n",
            "29  https://habr.com/ru/companies/io/articles/264125/  \n",
            "30               https://habr.com/ru/articles/871686/  \n",
            "31  https://habr.com/ru/companies/yandex_praktikum...  \n",
            "32                   https://habr.com/ru/news/741664/  \n",
            "33                   https://habr.com/ru/news/763620/  \n",
            "34  https://habr.com/ru/companies/yandex_praktikum...  \n",
            "35  https://habr.com/ru/companies/factory5/news/69...  \n",
            "36  https://habr.com/ru/companies/yandex/news/497766/  \n",
            "37                   https://habr.com/ru/news/712684/  \n",
            "38                   https://habr.com/ru/news/844072/  \n",
            "39                   https://habr.com/ru/news/836040/  \n"
          ]
        }
      ]
    },
    {
      "cell_type": "code",
      "source": [
        "list__x = ['python', 'анализ данных']\n",
        "#list = []\n",
        "#url = 'https://habr.com/ru/search/?q='\n",
        "#url_1 = 'https://habr.com/'\n",
        "def data_(list__x, pages = 1):\n",
        "    url = 'https://habr.com/ru/search/page1/?q='\n",
        "    url_1 = 'https://habr.com'\n",
        "    list = []\n",
        "    for page in range(1, pages+1):\n",
        "      for i in list__x:\n",
        "        res = requests.get(f'https://habr.com/ru/search/page{page}/?q= + {i}+&target_type=posts&order=relevance')\n",
        "        soup = BeautifulSoup(res.text)\n",
        "        book = soup.find_all('div', class_=\"tm-articles-list\")\n",
        "        books = soup.find_all('article')\n",
        "\n",
        "        for ii in books:\n",
        "          date = ii.find('time').get('title')\n",
        "          heading = ii.find('h2').find('span').text\n",
        "          link = ii.find('h2').find_next('a').get('href')\n",
        "          #text\n",
        "          rest = requests.get(url_1 + link)\n",
        "          soupt = BeautifulSoup(rest.text)\n",
        "          text = soupt.find('main').find('div', id=\"post-content-body\").text\n",
        "          #like\n",
        "          like = ii.find('div', class_=\"tm-votes-meter tm-data-icons__item\").text\n",
        "          pattern = '\\d+'\n",
        "          like = re.search(pattern, like)\n",
        "          like = like.group()\n",
        "          list.append({'дата': date, 'заголовок': heading, 'ссылка на материал': url_1 + link, 'текст': text, 'лайки': like})\n",
        "\n",
        "    return list\n",
        "\n",
        "dict = (data_(list__x))\n",
        "a = pd.DataFrame(dict)\n",
        "print(a)"
      ],
      "metadata": {
        "colab": {
          "base_uri": "https://localhost:8080/"
        },
        "id": "ui-y8Aa0Se9Y",
        "outputId": "2fbc2fd7-2a40-4904-e55c-30d6c57438f1"
      },
      "execution_count": 207,
      "outputs": [
        {
          "output_type": "stream",
          "name": "stdout",
          "text": [
            "                 дата                                            heading  \\\n",
            "0   2025-02-25, 21:02  Google предлагает разработчикам бесплатный инс...   \n",
            "1   2022-01-20, 18:37  Курс «Python для инженеров». Старт 3 потока 31...   \n",
            "2   2021-12-13, 09:00  Жаждущим автоматизации: открытый урок «ChatOps...   \n",
            "3   2024-12-24, 09:20  Один из ключевых разработчиков CPython Тим Пит...   \n",
            "4   2023-09-19, 07:42  Microsoft представила дополнение Python Editor...   \n",
            "5   2022-01-13, 18:35  Открытый урок «Пишем Custom Prometheus Exporte...   \n",
            "6   2024-09-02, 10:27  55% Python-разработчиков используют Linux-окру...   \n",
            "7   2023-11-09, 14:05  Alchemer совместно с JetBrains и Python Softwa...   \n",
            "8   2020-04-21, 18:35  Вышел Python 2.7.18, последний релиз ветки Pyt...   \n",
            "9   2021-07-06, 13:29  Python Community Meetup 8/07: видео и материал...   \n",
            "10  2023-08-22, 20:14                  Microsoft добавила Python в Excel   \n",
            "11  2024-11-20, 09:05     Как мы обновили курсы для Python-разработчиков   \n",
            "12  2023-10-09, 08:39  JetBrains и Python Software Foundation рассказ...   \n",
            "13  2023-10-09, 15:23  Три уровня погружения в Python. Запись докладо...   \n",
            "14  2023-10-20, 07:17  Автор курсов по Python и Pandas жалуется на ве...   \n",
            "15  2024-07-01, 14:46  Релиз открытой библиотеки для быстрой обработк...   \n",
            "16  2022-10-25, 12:02                                  Вышел Python 3.11   \n",
            "17  2024-07-11, 09:57  Инсайдерам Microsoft 365 станет доступен редак...   \n",
            "18  2022-03-08, 12:13  Вышел мартовский релиз расширения Python для V...   \n",
            "19  2020-12-04, 21:03  Python как компилируемый статически типизирова...   \n",
            "20  2021-08-05, 00:11  Глава Xsolla объяснил, как выбрали 147 неактив...   \n",
            "21  2022-08-18, 16:37  Вебинар «От идеи до внедрения. Как построить с...   \n",
            "22  2022-10-26, 15:32  Как понять, что пришло время внедрять платформ...   \n",
            "23  2015-11-11, 08:39  Как мы учим машинному обучению и анализу данны...   \n",
            "24  2013-04-30, 13:17  Открылся новый набор в Школу анализа данных Ян...   \n",
            "25  2023-03-01, 10:28            Все про Школу анализа данных от Яндекса   \n",
            "26  2011-06-16, 21:18      Школа анализа данных Яндекса: снова выпускной   \n",
            "27  2014-04-24, 18:40  Новый набор в Школу анализа данных Яндекса и р...   \n",
            "28  2017-07-25, 13:47                10 лет Школе анализа данных Яндекса   \n",
            "29  2015-08-04, 14:09  В чем разница между наукой о данных, анализом ...   \n",
            "30  2025-01-05, 10:18  7 красивейших интегралов с экзамена в Школу Ан...   \n",
            "31  2022-06-21, 16:31  Яндекс Практикум запускает программу по матема...   \n",
            "32  2023-06-14, 12:18  Новая библиотека для анализа данных Pandas AI:...   \n",
            "33  2023-09-26, 19:13  В России начался отбор на национальную школьну...   \n",
            "34  2024-04-27, 10:20  Начните учиться бесплатно на курсе «Python для...   \n",
            "35  2023-01-25, 11:56  СК проверит контракт на поставку МВД системы д...   \n",
            "36  2022-10-04, 17:23  Factory5 представила бесплатный сервис по анал...   \n",
            "37  2024-09-17, 16:00  ИТМО провёл исследование open source в сферах ...   \n",
            "38  2024-12-10, 15:27  Центральный университет и AIRI создают лаборат...   \n",
            "39  2020-04-17, 14:38  В Яндекс.Облаке открыт доступ к анализу данных...   \n",
            "\n",
            "                                   ссылка на материал  \\\n",
            "0   https://habr.com/ru/companies/bothub/news/885758/   \n",
            "1    https://habr.com/ru/companies/slurm/news/646825/   \n",
            "2    https://habr.com/ru/companies/slurm/news/595093/   \n",
            "3                    https://habr.com/ru/news/869196/   \n",
            "4                    https://habr.com/ru/news/761862/   \n",
            "5    https://habr.com/ru/companies/slurm/news/645485/   \n",
            "6                    https://habr.com/ru/news/840224/   \n",
            "7                    https://habr.com/ru/news/772872/   \n",
            "8                    https://habr.com/ru/news/498364/   \n",
            "9   https://habr.com/ru/companies/raiffeisenbank/n...   \n",
            "10                   https://habr.com/ru/news/756266/   \n",
            "11  https://habr.com/ru/companies/yandex_praktikum...   \n",
            "12                   https://habr.com/ru/news/766124/   \n",
            "13  https://habr.com/ru/companies/selectel/news/76...   \n",
            "14                   https://habr.com/ru/news/768702/   \n",
            "15                   https://habr.com/ru/news/825868/   \n",
            "16                   https://habr.com/ru/news/695298/   \n",
            "17                   https://habr.com/ru/news/828098/   \n",
            "18                   https://habr.com/ru/news/654707/   \n",
            "19                   https://habr.com/ru/news/531402/   \n",
            "20                   https://habr.com/ru/news/571328/   \n",
            "21  https://habr.com/ru/companies/factory5/news/68...   \n",
            "22  https://habr.com/ru/companies/factory5/article...   \n",
            "23  https://habr.com/ru/companies/beeline/articles...   \n",
            "24  https://habr.com/ru/companies/yandex/articles/...   \n",
            "25               https://habr.com/ru/articles/719692/   \n",
            "26  https://habr.com/ru/companies/yandex/articles/...   \n",
            "27  https://habr.com/ru/companies/yandex/articles/...   \n",
            "28  https://habr.com/ru/companies/yandex/articles/...   \n",
            "29  https://habr.com/ru/companies/io/articles/264125/   \n",
            "30               https://habr.com/ru/articles/871686/   \n",
            "31  https://habr.com/ru/companies/yandex_praktikum...   \n",
            "32                   https://habr.com/ru/news/741664/   \n",
            "33                   https://habr.com/ru/news/763620/   \n",
            "34  https://habr.com/ru/companies/yandex_praktikum...   \n",
            "35                   https://habr.com/ru/news/712684/   \n",
            "36  https://habr.com/ru/companies/factory5/news/69...   \n",
            "37                   https://habr.com/ru/news/844072/   \n",
            "38                   https://habr.com/ru/news/865422/   \n",
            "39  https://habr.com/ru/companies/yandex/news/497766/   \n",
            "\n",
            "                                                текст лайки  \n",
            "0   Google предоставила разработчикам возможность ...    13  \n",
            "1   Курс нацелен дать максимальную пользу, поэтому...    12  \n",
            "2   21 декабря Слёрм проведёт открытый урок «ChatO...     7  \n",
            "3   Один из ключевых разработчиков CPython Тим Пит...     9  \n",
            "4   Microsoft представила дополнение Python Editor...     3  \n",
            "5   19 января Слёрм проведёт открытый урок «Пишем ...    10  \n",
            "6   Организация Python Software Foundation и компа...     5  \n",
            "7   Alchemer совместно с JetBrains и Python Softwa...     3  \n",
            "8   \\n20 апреля 2020 года, спустя почти десять лет...    19  \n",
            "9   Первый открытый онлайн-митап сообщества, для к...     3  \n",
            "10  22 августа 2023 года Microsoft сообщила, что д...    20  \n",
            "11  Привет! На связи команда Яндекс Практикума. Мы...     3  \n",
            "12  JetBrain совместно с Python Software Foundatio...     8  \n",
            "13  Привет, Хабр! В сентябре мы провели Selectel P...     3  \n",
            "14  \\nDALL-E 3\\n\\nПреподаватель языка Python Ревер...    16  \n",
            "15  1 июля 2024 года состоялся релиз открытой библ...     5  \n",
            "16  Разработчики опубликовали выпуск языка програм...     9  \n",
            "17  В сентябре 2023 года Microsoft запустила надст...     5  \n",
            "18  Вышел выпуск расширения Python для Visual Stud...     0  \n",
            "19  По данным широко известного в узких кругах Tio...    21  \n",
            "20  \\nАлександр Агапитов. Фотография: Xsolla\\n\\nОс...    36  \n",
            "21  Factory5 приглашает на вебинар, посвященный ти...     0  \n",
            "22  Эффективные управленческие решения основаны на...     2  \n",
            "23  \\n\\nПосле длительной подготовки, подборки мате...    27  \n",
            "24  На днях мы открыли новый набор в Школу анализа...    56  \n",
            "25  Привет, Хабр! Меня зовут Владислав и уже какой...     7  \n",
            "26  Сегодня мы отпраздновали очередной выпускной в...    49  \n",
            "27  16 апреля открылся новый набор в Школу анализа...    62  \n",
            "28  Сегодня исполняется 10 лет Школе анализа данны...    53  \n",
            "29  В последнее время слово big data звучит отовсю...    29  \n",
            "30  С интегралами начинают знакомится еще в старши...    14  \n",
            "31  Яндекс Практикум разработал образовательную пр...     1  \n",
            "32  Появилась новая библиотека Pandas AI - надстро...     2  \n",
            "33  Начался отбор на школьную олимпиаду DANO по ан...     3  \n",
            "34  Мы добавили бесплатный вводный модуль к курсу ...     4  \n",
            "35  В московском управлении Следственного комитета...     6  \n",
            "36  Российский разработчик программного обеспечени...     3  \n",
            "37  Специалисты центра «Сильный ИИ в промышленност...     5  \n",
            "38  Центральный университет вместе с некоммерческо...     2  \n",
            "39  Сегодня на платформе Яндекс.Облако мы открывае...    18  \n"
          ]
        }
      ]
    },
    {
      "cell_type": "code",
      "source": [
        "rest = requests.get('https://habr.com/ru/news/746082/')\n",
        "soupt = BeautifulSoup(rest.text)\n",
        "text = soupt.find('main').find('div', class_='article-formatted-body article-formatted-body article-formatted-body_version-2').text\n",
        "\n",
        "res = requests.get(f'https://habr.com/ru/search/page{page}/?q= + {i}+&target_type=posts&order=relevance')\n",
        "soup = BeautifulSoup(res.text)\n",
        "book = soup.find_all('div', class_=\"tm-articles-list\")\n",
        "books = soup.find_all('article')"
      ],
      "metadata": {
        "colab": {
          "base_uri": "https://localhost:8080/"
        },
        "id": "m7r7O7WmQGwR",
        "outputId": "e98464b3-2ecd-4ed5-fa70-e12f15aa99a7"
      },
      "execution_count": null,
      "outputs": [
        {
          "output_type": "stream",
          "name": "stdout",
          "text": [
            "Разработчик представил утилиту, решающую проблему «путаницы манифестов» в NPM. На прошлой неделе стало известно, что злоумышленники могут прятать вредоносный код в зависимостях пакетов.В конце июня бывший инженер GitHub Дарси Кларк (Darcy Clarke) рассказал, что в менеджере пакетов NPM уже долгое время присутствует ошибка «путаницы манифестов» (Manifest Confusion). Суть ошибки заключается в том, что система не проверяет соответствие между содержимым пакета и его метаданными. Таким образом, в интерфейсе пакетного менеджера и в файле package.json могут находиться разные зависимости.Фактические зависимости пакета и счётчик вкладки DependenciesЭту ошибку могут использовать злоумышленники, пряча в списке зависимостей вредоносный код. Вместе с этим Кларк утверждает, что с помощью «путаницы манифестов» можно заставить машину пользователя запустить скрытый установочный скрипт, который не получится засечь с помощью специализированного ПО.После заявления администрация NPM рассказала, что уже начала работать над исправлением, а пока посоветовала разработчикам на время отказаться от использования вкладки Dependencies для получения информации о зависимостях. Все данные просят узнавать с помощью содержимого файла package.json.Спустя неделю системный администратор Феликс Панкратц (Felix Pankratz) выпустил утилиту на Python, предназначенную для самостоятельной проверки пакетов из NPM. Инструмент можно вызвать с помощью команды ./npm-manifest-check.py package, где вместо package передать название проверяемого пакета. Утилита сравнит данные в манифесте и файле package.json, выведя все несоответствия. Есть возможность запустить проверку целого списка пакетов.Проверка пакета с «путаницей манифестов» (сверху) и пакета без ошибки (снизу)Представители NPM пока не рассказали о том, как планируют исправить ошибку и не назвали точные сроки исправления. Активным пользователям NPM всё ещё рекомендуется внимательно проверять список зависимостей в package.json.\n"
          ]
        }
      ]
    }
  ]
}